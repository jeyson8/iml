{
  "nbformat": 4,
  "nbformat_minor": 0,
  "metadata": {
    "colab": {
      "name": "iml-at1-JeysonFerreiraAlves.ipynb",
      "provenance": [],
      "collapsed_sections": [],
      "authorship_tag": "ABX9TyP0uR8sExRekojyqpJoIPZx",
      "include_colab_link": true
    },
    "kernelspec": {
      "name": "python3",
      "display_name": "Python 3"
    },
    "language_info": {
      "name": "python"
    }
  },
  "cells": [
    {
      "cell_type": "markdown",
      "metadata": {
        "id": "view-in-github",
        "colab_type": "text"
      },
      "source": [
        "<a href=\"https://colab.research.google.com/github/jeyson8/iml/blob/main/iml_at1_JeysonFerreiraAlves.ipynb\" target=\"_parent\"><img src=\"https://colab.research.google.com/assets/colab-badge.svg\" alt=\"Open In Colab\"/></a>"
      ]
    },
    {
      "cell_type": "code",
      "metadata": {
        "id": "lXtSPVVCZEkl"
      },
      "source": [
        "# Importando bibliotecas\n",
        "import numpy as np\n",
        "import pandas as pd\n",
        "import seaborn as sns\n",
        "\n",
        "import matplotlib.pyplot as plt\n",
        "from matplotlib import rcParams\n",
        "\n",
        "from sklearn.preprocessing import scale\n",
        "from sklearn.model_selection import train_test_split\n",
        "from pandas import Series, DataFrame"
      ],
      "execution_count": 26,
      "outputs": []
    },
    {
      "cell_type": "code",
      "metadata": {
        "id": "4mNTfHlYaP1z"
      },
      "source": [
        "# Ler o arquivo database\n",
        "database = pd.read_excel('/content/Database.xlsx')"
      ],
      "execution_count": 7,
      "outputs": []
    },
    {
      "cell_type": "code",
      "metadata": {
        "colab": {
          "base_uri": "https://localhost:8080/",
          "height": 241
        },
        "id": "5AFTBDyYarlM",
        "outputId": "41e3152f-d3ef-43f3-dc78-d0f6967b9e26"
      },
      "source": [
        "# Visualizar dados da base\n",
        "database.head()"
      ],
      "execution_count": 8,
      "outputs": [
        {
          "output_type": "execute_result",
          "data": {
            "text/html": [
              "<div>\n",
              "<style scoped>\n",
              "    .dataframe tbody tr th:only-of-type {\n",
              "        vertical-align: middle;\n",
              "    }\n",
              "\n",
              "    .dataframe tbody tr th {\n",
              "        vertical-align: top;\n",
              "    }\n",
              "\n",
              "    .dataframe thead th {\n",
              "        text-align: right;\n",
              "    }\n",
              "</style>\n",
              "<table border=\"1\" class=\"dataframe\">\n",
              "  <thead>\n",
              "    <tr style=\"text-align: right;\">\n",
              "      <th></th>\n",
              "      <th>Branding</th>\n",
              "      <th>DPA 1</th>\n",
              "      <th>DPA 3</th>\n",
              "      <th>DRA 1</th>\n",
              "      <th>DRA 3</th>\n",
              "      <th>Display 1</th>\n",
              "      <th>Display 2</th>\n",
              "      <th>Rmkt 1</th>\n",
              "      <th>Rmkt 3</th>\n",
              "      <th>Rmkt 6</th>\n",
              "      <th>Rmkt 7</th>\n",
              "      <th>Search 1</th>\n",
              "      <th>Search 2</th>\n",
              "      <th>Search 3</th>\n",
              "      <th>Search 4</th>\n",
              "      <th>Search 5</th>\n",
              "      <th>Search 6</th>\n",
              "      <th>Shopping 1</th>\n",
              "      <th>Shopping 2</th>\n",
              "      <th>Shopping 3</th>\n",
              "      <th>Shopping 4</th>\n",
              "      <th>Shopping 5</th>\n",
              "      <th>Shopping 6</th>\n",
              "      <th>Shopping 7</th>\n",
              "      <th>Flag</th>\n",
              "      <th>leads</th>\n",
              "    </tr>\n",
              "  </thead>\n",
              "  <tbody>\n",
              "    <tr>\n",
              "      <th>0</th>\n",
              "      <td>67.177647</td>\n",
              "      <td>0.000000</td>\n",
              "      <td>0.0</td>\n",
              "      <td>0.000000</td>\n",
              "      <td>0.00000</td>\n",
              "      <td>552.287329</td>\n",
              "      <td>0.000000</td>\n",
              "      <td>0.000000</td>\n",
              "      <td>0.0</td>\n",
              "      <td>20.519805</td>\n",
              "      <td>0.0</td>\n",
              "      <td>3353.594368</td>\n",
              "      <td>450.860760</td>\n",
              "      <td>75.718121</td>\n",
              "      <td>71.646370</td>\n",
              "      <td>0.0</td>\n",
              "      <td>965.950997</td>\n",
              "      <td>235.222462</td>\n",
              "      <td>0.000000</td>\n",
              "      <td>0.000000</td>\n",
              "      <td>0.000000</td>\n",
              "      <td>0.0</td>\n",
              "      <td>0.000000</td>\n",
              "      <td>0.0</td>\n",
              "      <td>0</td>\n",
              "      <td>0</td>\n",
              "    </tr>\n",
              "    <tr>\n",
              "      <th>1</th>\n",
              "      <td>3420.885973</td>\n",
              "      <td>8786.139900</td>\n",
              "      <td>0.0</td>\n",
              "      <td>5737.041917</td>\n",
              "      <td>0.00000</td>\n",
              "      <td>2071.136177</td>\n",
              "      <td>1366.977361</td>\n",
              "      <td>35.350204</td>\n",
              "      <td>0.0</td>\n",
              "      <td>25.275315</td>\n",
              "      <td>0.0</td>\n",
              "      <td>7306.236564</td>\n",
              "      <td>422.858902</td>\n",
              "      <td>87.570070</td>\n",
              "      <td>344.762166</td>\n",
              "      <td>0.0</td>\n",
              "      <td>694.082774</td>\n",
              "      <td>2146.834248</td>\n",
              "      <td>531.891351</td>\n",
              "      <td>0.000000</td>\n",
              "      <td>0.000000</td>\n",
              "      <td>0.0</td>\n",
              "      <td>33.396586</td>\n",
              "      <td>0.0</td>\n",
              "      <td>0</td>\n",
              "      <td>0</td>\n",
              "    </tr>\n",
              "    <tr>\n",
              "      <th>2</th>\n",
              "      <td>4207.942789</td>\n",
              "      <td>6004.475770</td>\n",
              "      <td>0.0</td>\n",
              "      <td>12306.358005</td>\n",
              "      <td>0.00000</td>\n",
              "      <td>4229.737244</td>\n",
              "      <td>2713.175424</td>\n",
              "      <td>206.891574</td>\n",
              "      <td>0.0</td>\n",
              "      <td>38.460050</td>\n",
              "      <td>0.0</td>\n",
              "      <td>7889.436093</td>\n",
              "      <td>581.513248</td>\n",
              "      <td>102.705468</td>\n",
              "      <td>684.815084</td>\n",
              "      <td>0.0</td>\n",
              "      <td>2539.484046</td>\n",
              "      <td>2261.165457</td>\n",
              "      <td>2069.699426</td>\n",
              "      <td>282.404050</td>\n",
              "      <td>102.513534</td>\n",
              "      <td>0.0</td>\n",
              "      <td>380.934946</td>\n",
              "      <td>0.0</td>\n",
              "      <td>0</td>\n",
              "      <td>0</td>\n",
              "    </tr>\n",
              "    <tr>\n",
              "      <th>3</th>\n",
              "      <td>6328.724014</td>\n",
              "      <td>359.465712</td>\n",
              "      <td>0.0</td>\n",
              "      <td>0.000000</td>\n",
              "      <td>34.94577</td>\n",
              "      <td>4829.948289</td>\n",
              "      <td>1913.018103</td>\n",
              "      <td>88.015632</td>\n",
              "      <td>0.0</td>\n",
              "      <td>33.366603</td>\n",
              "      <td>0.0</td>\n",
              "      <td>2879.365595</td>\n",
              "      <td>1647.366100</td>\n",
              "      <td>109.320350</td>\n",
              "      <td>79.707614</td>\n",
              "      <td>0.0</td>\n",
              "      <td>559.289987</td>\n",
              "      <td>765.482371</td>\n",
              "      <td>2259.469113</td>\n",
              "      <td>197.917148</td>\n",
              "      <td>197.164612</td>\n",
              "      <td>0.0</td>\n",
              "      <td>66.560108</td>\n",
              "      <td>0.0</td>\n",
              "      <td>0</td>\n",
              "      <td>0</td>\n",
              "    </tr>\n",
              "    <tr>\n",
              "      <th>4</th>\n",
              "      <td>2165.951657</td>\n",
              "      <td>1637.755671</td>\n",
              "      <td>0.0</td>\n",
              "      <td>727.490691</td>\n",
              "      <td>0.00000</td>\n",
              "      <td>4956.284104</td>\n",
              "      <td>1766.960185</td>\n",
              "      <td>749.291333</td>\n",
              "      <td>0.0</td>\n",
              "      <td>34.499781</td>\n",
              "      <td>0.0</td>\n",
              "      <td>1246.079254</td>\n",
              "      <td>800.955961</td>\n",
              "      <td>13.565649</td>\n",
              "      <td>309.309140</td>\n",
              "      <td>0.0</td>\n",
              "      <td>421.522216</td>\n",
              "      <td>257.384030</td>\n",
              "      <td>3518.026591</td>\n",
              "      <td>272.718801</td>\n",
              "      <td>1033.278842</td>\n",
              "      <td>0.0</td>\n",
              "      <td>55.112592</td>\n",
              "      <td>0.0</td>\n",
              "      <td>1</td>\n",
              "      <td>0</td>\n",
              "    </tr>\n",
              "  </tbody>\n",
              "</table>\n",
              "</div>"
            ],
            "text/plain": [
              "      Branding        DPA 1  DPA 3  ...  Shopping 7  Flag  leads\n",
              "0    67.177647     0.000000    0.0  ...         0.0     0      0\n",
              "1  3420.885973  8786.139900    0.0  ...         0.0     0      0\n",
              "2  4207.942789  6004.475770    0.0  ...         0.0     0      0\n",
              "3  6328.724014   359.465712    0.0  ...         0.0     0      0\n",
              "4  2165.951657  1637.755671    0.0  ...         0.0     1      0\n",
              "\n",
              "[5 rows x 26 columns]"
            ]
          },
          "metadata": {},
          "execution_count": 8
        }
      ]
    },
    {
      "cell_type": "code",
      "metadata": {
        "colab": {
          "base_uri": "https://localhost:8080/",
          "height": 396
        },
        "id": "FbfLZ0bMazEW",
        "outputId": "c9b85836-4329-438f-ca44-0a31bdfc83a2"
      },
      "source": [
        "# Selecionando 3 variáveis (Branding, Shopping 1 e leads)\n",
        "database[['Branding','DPA 1','DPA 3','DRA 1','DRA 3','Display 1','Display 2','Rmkt 1','Rmkt 3','Rmkt 6','Rmkt 7','Search 1','Search 2','Search 3','Search 4','Search 5','Search 6','Shopping 1','Shopping 2','Shopping 3','Shopping 4','Shopping 5','Shopping 6','Shopping 7','leads']] [:10]"
      ],
      "execution_count": 57,
      "outputs": [
        {
          "output_type": "execute_result",
          "data": {
            "text/html": [
              "<div>\n",
              "<style scoped>\n",
              "    .dataframe tbody tr th:only-of-type {\n",
              "        vertical-align: middle;\n",
              "    }\n",
              "\n",
              "    .dataframe tbody tr th {\n",
              "        vertical-align: top;\n",
              "    }\n",
              "\n",
              "    .dataframe thead th {\n",
              "        text-align: right;\n",
              "    }\n",
              "</style>\n",
              "<table border=\"1\" class=\"dataframe\">\n",
              "  <thead>\n",
              "    <tr style=\"text-align: right;\">\n",
              "      <th></th>\n",
              "      <th>Branding</th>\n",
              "      <th>DPA 1</th>\n",
              "      <th>DPA 3</th>\n",
              "      <th>DRA 1</th>\n",
              "      <th>DRA 3</th>\n",
              "      <th>Display 1</th>\n",
              "      <th>Display 2</th>\n",
              "      <th>Rmkt 1</th>\n",
              "      <th>Rmkt 3</th>\n",
              "      <th>Rmkt 6</th>\n",
              "      <th>Rmkt 7</th>\n",
              "      <th>Search 1</th>\n",
              "      <th>Search 2</th>\n",
              "      <th>Search 3</th>\n",
              "      <th>Search 4</th>\n",
              "      <th>Search 5</th>\n",
              "      <th>Search 6</th>\n",
              "      <th>Shopping 1</th>\n",
              "      <th>Shopping 2</th>\n",
              "      <th>Shopping 3</th>\n",
              "      <th>Shopping 4</th>\n",
              "      <th>Shopping 5</th>\n",
              "      <th>Shopping 6</th>\n",
              "      <th>Shopping 7</th>\n",
              "      <th>leads</th>\n",
              "    </tr>\n",
              "  </thead>\n",
              "  <tbody>\n",
              "    <tr>\n",
              "      <th>0</th>\n",
              "      <td>67.177647</td>\n",
              "      <td>0.000000</td>\n",
              "      <td>0.0</td>\n",
              "      <td>0.000000</td>\n",
              "      <td>0.000000</td>\n",
              "      <td>552.287329</td>\n",
              "      <td>0.000000</td>\n",
              "      <td>0.000000</td>\n",
              "      <td>0.0</td>\n",
              "      <td>20.519805</td>\n",
              "      <td>0.0</td>\n",
              "      <td>3353.594368</td>\n",
              "      <td>450.860760</td>\n",
              "      <td>75.718121</td>\n",
              "      <td>71.646370</td>\n",
              "      <td>0.0</td>\n",
              "      <td>965.950997</td>\n",
              "      <td>235.222462</td>\n",
              "      <td>0.000000</td>\n",
              "      <td>0.000000</td>\n",
              "      <td>0.000000</td>\n",
              "      <td>0.0</td>\n",
              "      <td>0.000000</td>\n",
              "      <td>0.0</td>\n",
              "      <td>0</td>\n",
              "    </tr>\n",
              "    <tr>\n",
              "      <th>1</th>\n",
              "      <td>3420.885973</td>\n",
              "      <td>8786.139900</td>\n",
              "      <td>0.0</td>\n",
              "      <td>5737.041917</td>\n",
              "      <td>0.000000</td>\n",
              "      <td>2071.136177</td>\n",
              "      <td>1366.977361</td>\n",
              "      <td>35.350204</td>\n",
              "      <td>0.0</td>\n",
              "      <td>25.275315</td>\n",
              "      <td>0.0</td>\n",
              "      <td>7306.236564</td>\n",
              "      <td>422.858902</td>\n",
              "      <td>87.570070</td>\n",
              "      <td>344.762166</td>\n",
              "      <td>0.0</td>\n",
              "      <td>694.082774</td>\n",
              "      <td>2146.834248</td>\n",
              "      <td>531.891351</td>\n",
              "      <td>0.000000</td>\n",
              "      <td>0.000000</td>\n",
              "      <td>0.0</td>\n",
              "      <td>33.396586</td>\n",
              "      <td>0.0</td>\n",
              "      <td>0</td>\n",
              "    </tr>\n",
              "    <tr>\n",
              "      <th>2</th>\n",
              "      <td>4207.942789</td>\n",
              "      <td>6004.475770</td>\n",
              "      <td>0.0</td>\n",
              "      <td>12306.358005</td>\n",
              "      <td>0.000000</td>\n",
              "      <td>4229.737244</td>\n",
              "      <td>2713.175424</td>\n",
              "      <td>206.891574</td>\n",
              "      <td>0.0</td>\n",
              "      <td>38.460050</td>\n",
              "      <td>0.0</td>\n",
              "      <td>7889.436093</td>\n",
              "      <td>581.513248</td>\n",
              "      <td>102.705468</td>\n",
              "      <td>684.815084</td>\n",
              "      <td>0.0</td>\n",
              "      <td>2539.484046</td>\n",
              "      <td>2261.165457</td>\n",
              "      <td>2069.699426</td>\n",
              "      <td>282.404050</td>\n",
              "      <td>102.513534</td>\n",
              "      <td>0.0</td>\n",
              "      <td>380.934946</td>\n",
              "      <td>0.0</td>\n",
              "      <td>0</td>\n",
              "    </tr>\n",
              "    <tr>\n",
              "      <th>3</th>\n",
              "      <td>6328.724014</td>\n",
              "      <td>359.465712</td>\n",
              "      <td>0.0</td>\n",
              "      <td>0.000000</td>\n",
              "      <td>34.945770</td>\n",
              "      <td>4829.948289</td>\n",
              "      <td>1913.018103</td>\n",
              "      <td>88.015632</td>\n",
              "      <td>0.0</td>\n",
              "      <td>33.366603</td>\n",
              "      <td>0.0</td>\n",
              "      <td>2879.365595</td>\n",
              "      <td>1647.366100</td>\n",
              "      <td>109.320350</td>\n",
              "      <td>79.707614</td>\n",
              "      <td>0.0</td>\n",
              "      <td>559.289987</td>\n",
              "      <td>765.482371</td>\n",
              "      <td>2259.469113</td>\n",
              "      <td>197.917148</td>\n",
              "      <td>197.164612</td>\n",
              "      <td>0.0</td>\n",
              "      <td>66.560108</td>\n",
              "      <td>0.0</td>\n",
              "      <td>0</td>\n",
              "    </tr>\n",
              "    <tr>\n",
              "      <th>4</th>\n",
              "      <td>2165.951657</td>\n",
              "      <td>1637.755671</td>\n",
              "      <td>0.0</td>\n",
              "      <td>727.490691</td>\n",
              "      <td>0.000000</td>\n",
              "      <td>4956.284104</td>\n",
              "      <td>1766.960185</td>\n",
              "      <td>749.291333</td>\n",
              "      <td>0.0</td>\n",
              "      <td>34.499781</td>\n",
              "      <td>0.0</td>\n",
              "      <td>1246.079254</td>\n",
              "      <td>800.955961</td>\n",
              "      <td>13.565649</td>\n",
              "      <td>309.309140</td>\n",
              "      <td>0.0</td>\n",
              "      <td>421.522216</td>\n",
              "      <td>257.384030</td>\n",
              "      <td>3518.026591</td>\n",
              "      <td>272.718801</td>\n",
              "      <td>1033.278842</td>\n",
              "      <td>0.0</td>\n",
              "      <td>55.112592</td>\n",
              "      <td>0.0</td>\n",
              "      <td>0</td>\n",
              "    </tr>\n",
              "    <tr>\n",
              "      <th>5</th>\n",
              "      <td>82.749432</td>\n",
              "      <td>0.000000</td>\n",
              "      <td>0.0</td>\n",
              "      <td>4.398999</td>\n",
              "      <td>0.000000</td>\n",
              "      <td>586.867944</td>\n",
              "      <td>0.000000</td>\n",
              "      <td>0.000000</td>\n",
              "      <td>0.0</td>\n",
              "      <td>15.000669</td>\n",
              "      <td>0.0</td>\n",
              "      <td>2209.137525</td>\n",
              "      <td>205.753677</td>\n",
              "      <td>121.384798</td>\n",
              "      <td>69.665332</td>\n",
              "      <td>0.0</td>\n",
              "      <td>322.929628</td>\n",
              "      <td>138.124220</td>\n",
              "      <td>0.000000</td>\n",
              "      <td>0.000000</td>\n",
              "      <td>0.000000</td>\n",
              "      <td>0.0</td>\n",
              "      <td>0.000000</td>\n",
              "      <td>0.0</td>\n",
              "      <td>1</td>\n",
              "    </tr>\n",
              "    <tr>\n",
              "      <th>6</th>\n",
              "      <td>7179.241951</td>\n",
              "      <td>2392.709069</td>\n",
              "      <td>0.0</td>\n",
              "      <td>1746.316852</td>\n",
              "      <td>34.143759</td>\n",
              "      <td>1350.540236</td>\n",
              "      <td>2764.157177</td>\n",
              "      <td>1491.001258</td>\n",
              "      <td>0.0</td>\n",
              "      <td>35.922187</td>\n",
              "      <td>0.0</td>\n",
              "      <td>4999.870556</td>\n",
              "      <td>704.248442</td>\n",
              "      <td>59.828694</td>\n",
              "      <td>2802.413610</td>\n",
              "      <td>0.0</td>\n",
              "      <td>925.583080</td>\n",
              "      <td>755.508637</td>\n",
              "      <td>2204.537485</td>\n",
              "      <td>0.000000</td>\n",
              "      <td>393.712293</td>\n",
              "      <td>0.0</td>\n",
              "      <td>289.286270</td>\n",
              "      <td>0.0</td>\n",
              "      <td>1</td>\n",
              "    </tr>\n",
              "    <tr>\n",
              "      <th>7</th>\n",
              "      <td>3169.370556</td>\n",
              "      <td>1433.324970</td>\n",
              "      <td>0.0</td>\n",
              "      <td>1752.728695</td>\n",
              "      <td>33.849002</td>\n",
              "      <td>4841.719832</td>\n",
              "      <td>2658.276202</td>\n",
              "      <td>1386.355881</td>\n",
              "      <td>0.0</td>\n",
              "      <td>34.145305</td>\n",
              "      <td>0.0</td>\n",
              "      <td>12244.770369</td>\n",
              "      <td>703.665784</td>\n",
              "      <td>180.322369</td>\n",
              "      <td>1018.294250</td>\n",
              "      <td>0.0</td>\n",
              "      <td>681.716715</td>\n",
              "      <td>671.948625</td>\n",
              "      <td>2462.005119</td>\n",
              "      <td>492.177789</td>\n",
              "      <td>552.654540</td>\n",
              "      <td>0.0</td>\n",
              "      <td>284.851214</td>\n",
              "      <td>0.0</td>\n",
              "      <td>1</td>\n",
              "    </tr>\n",
              "    <tr>\n",
              "      <th>8</th>\n",
              "      <td>5866.153168</td>\n",
              "      <td>4580.870906</td>\n",
              "      <td>0.0</td>\n",
              "      <td>911.237313</td>\n",
              "      <td>0.000000</td>\n",
              "      <td>2765.013890</td>\n",
              "      <td>3381.453667</td>\n",
              "      <td>1436.320518</td>\n",
              "      <td>0.0</td>\n",
              "      <td>32.808800</td>\n",
              "      <td>0.0</td>\n",
              "      <td>1256.224358</td>\n",
              "      <td>1600.246205</td>\n",
              "      <td>105.029246</td>\n",
              "      <td>680.565108</td>\n",
              "      <td>0.0</td>\n",
              "      <td>459.854258</td>\n",
              "      <td>250.549795</td>\n",
              "      <td>2908.959000</td>\n",
              "      <td>391.733947</td>\n",
              "      <td>1534.707462</td>\n",
              "      <td>0.0</td>\n",
              "      <td>428.589515</td>\n",
              "      <td>0.0</td>\n",
              "      <td>1</td>\n",
              "    </tr>\n",
              "    <tr>\n",
              "      <th>9</th>\n",
              "      <td>2783.941751</td>\n",
              "      <td>2081.076151</td>\n",
              "      <td>0.0</td>\n",
              "      <td>67.220609</td>\n",
              "      <td>0.000000</td>\n",
              "      <td>1561.190571</td>\n",
              "      <td>1670.957141</td>\n",
              "      <td>445.287808</td>\n",
              "      <td>0.0</td>\n",
              "      <td>34.521205</td>\n",
              "      <td>0.0</td>\n",
              "      <td>1322.393742</td>\n",
              "      <td>870.758389</td>\n",
              "      <td>7.245524</td>\n",
              "      <td>776.100456</td>\n",
              "      <td>0.0</td>\n",
              "      <td>430.899583</td>\n",
              "      <td>313.038152</td>\n",
              "      <td>4349.232829</td>\n",
              "      <td>496.382669</td>\n",
              "      <td>1019.898273</td>\n",
              "      <td>0.0</td>\n",
              "      <td>54.331145</td>\n",
              "      <td>0.0</td>\n",
              "      <td>1</td>\n",
              "    </tr>\n",
              "  </tbody>\n",
              "</table>\n",
              "</div>"
            ],
            "text/plain": [
              "      Branding        DPA 1  DPA 3  ...  Shopping 6  Shopping 7  leads\n",
              "0    67.177647     0.000000    0.0  ...    0.000000         0.0      0\n",
              "1  3420.885973  8786.139900    0.0  ...   33.396586         0.0      0\n",
              "2  4207.942789  6004.475770    0.0  ...  380.934946         0.0      0\n",
              "3  6328.724014   359.465712    0.0  ...   66.560108         0.0      0\n",
              "4  2165.951657  1637.755671    0.0  ...   55.112592         0.0      0\n",
              "5    82.749432     0.000000    0.0  ...    0.000000         0.0      1\n",
              "6  7179.241951  2392.709069    0.0  ...  289.286270         0.0      1\n",
              "7  3169.370556  1433.324970    0.0  ...  284.851214         0.0      1\n",
              "8  5866.153168  4580.870906    0.0  ...  428.589515         0.0      1\n",
              "9  2783.941751  2081.076151    0.0  ...   54.331145         0.0      1\n",
              "\n",
              "[10 rows x 25 columns]"
            ]
          },
          "metadata": {},
          "execution_count": 57
        }
      ]
    },
    {
      "cell_type": "code",
      "metadata": {
        "id": "5Gw7HzCW_c21"
      },
      "source": [
        "#As variáveis de entrada serão Branding e Shopping 1\n",
        "X = database[['Branding','DPA 1','DPA 3','DRA 1','DRA 3','Display 1','Display 2','Rmkt 1','Rmkt 3','Rmkt 6','Rmkt 7','Search 1','Search 2','Search 3','Search 4','Search 5','Search 6','Shopping 1','Shopping 2','Shopping 3','Shopping 4','Shopping 5','Shopping 6','Shopping 7',]]"
      ],
      "execution_count": 58,
      "outputs": []
    },
    {
      "cell_type": "code",
      "metadata": {
        "id": "0Z8DEnQl_36U"
      },
      "source": [
        "# A variável de saída será leads\n",
        "y = database[['leads']]"
      ],
      "execution_count": 59,
      "outputs": []
    },
    {
      "cell_type": "code",
      "metadata": {
        "id": "EQh-2aKHAWEb"
      },
      "source": [
        "#SEPARANDO OS CONJUNTOS DE TREINO E TESTE\n",
        "\n",
        "# 70% dos dados para treino e 30% para teste\n",
        "x_train, x_test, y_train, y_test = train_test_split( X, database.leads, test_size=0.3)"
      ],
      "execution_count": 60,
      "outputs": []
    },
    {
      "cell_type": "code",
      "metadata": {
        "colab": {
          "base_uri": "https://localhost:8080/"
        },
        "id": "vLlokoIeAzaV",
        "outputId": "681f8eac-4fca-44a0-c2c9-119da0a16a3c"
      },
      "source": [
        "# Tamanho dos dados de treino\n",
        "x_train.shape, y_train.shape"
      ],
      "execution_count": 61,
      "outputs": [
        {
          "output_type": "execute_result",
          "data": {
            "text/plain": [
              "((392, 24), (392,))"
            ]
          },
          "metadata": {},
          "execution_count": 61
        }
      ]
    },
    {
      "cell_type": "code",
      "metadata": {
        "colab": {
          "base_uri": "https://localhost:8080/"
        },
        "id": "zPouiuNNA9dd",
        "outputId": "44b03dbf-ab76-495d-dba9-45832bdc1d07"
      },
      "source": [
        "# Tamanho dos dados de teste\n",
        "x_test.shape, y_test.shape"
      ],
      "execution_count": 62,
      "outputs": [
        {
          "output_type": "execute_result",
          "data": {
            "text/plain": [
              "((168, 24), (168,))"
            ]
          },
          "metadata": {},
          "execution_count": 62
        }
      ]
    },
    {
      "cell_type": "code",
      "metadata": {
        "id": "5z_sUfx5BGZF"
      },
      "source": [
        "# Instanciando a Regressão Linear\n",
        "from sklearn.linear_model import LinearRegression\n",
        "lreg = LinearRegression()"
      ],
      "execution_count": 63,
      "outputs": []
    },
    {
      "cell_type": "code",
      "metadata": {
        "colab": {
          "base_uri": "https://localhost:8080/"
        },
        "id": "ANPkAkivBWr8",
        "outputId": "ee26a68f-debe-429e-a6df-54fd0bfd4b71"
      },
      "source": [
        "# Treinando o modelo\n",
        "lreg.fit(x_train,y_train)"
      ],
      "execution_count": 64,
      "outputs": [
        {
          "output_type": "execute_result",
          "data": {
            "text/plain": [
              "LinearRegression(copy_X=True, fit_intercept=True, n_jobs=None, normalize=False)"
            ]
          },
          "metadata": {},
          "execution_count": 64
        }
      ]
    },
    {
      "cell_type": "code",
      "metadata": {
        "id": "5N5_LcyuBct3"
      },
      "source": [
        "# Predizendo os valores para o conjunto de teste\n",
        "pred = lreg.predict(x_test)"
      ],
      "execution_count": 65,
      "outputs": []
    },
    {
      "cell_type": "code",
      "metadata": {
        "colab": {
          "base_uri": "https://localhost:8080/"
        },
        "id": "LpnP_pICB7_z",
        "outputId": "9667ed71-1861-4cd2-c7f9-e817e228ccfe"
      },
      "source": [
        "# Calculando o Mean Square Error\n",
        "mse = np.mean((pred - y_test)**2)\n",
        "mse"
      ],
      "execution_count": 66,
      "outputs": [
        {
          "output_type": "execute_result",
          "data": {
            "text/plain": [
              "50534.49374212798"
            ]
          },
          "metadata": {},
          "execution_count": 66
        }
      ]
    },
    {
      "cell_type": "code",
      "metadata": {
        "colab": {
          "base_uri": "https://localhost:8080/",
          "height": 793
        },
        "id": "Er83Fd-KCIDI",
        "outputId": "3701c629-39a1-4a59-c98d-3dc496587b64"
      },
      "source": [
        "# Calculando os coeficientes\n",
        "coeff = DataFrame(x_train.columns)\n",
        "coeff['Coeficientes'] = Series(lreg.coef_)\n",
        "coeff"
      ],
      "execution_count": 67,
      "outputs": [
        {
          "output_type": "execute_result",
          "data": {
            "text/html": [
              "<div>\n",
              "<style scoped>\n",
              "    .dataframe tbody tr th:only-of-type {\n",
              "        vertical-align: middle;\n",
              "    }\n",
              "\n",
              "    .dataframe tbody tr th {\n",
              "        vertical-align: top;\n",
              "    }\n",
              "\n",
              "    .dataframe thead th {\n",
              "        text-align: right;\n",
              "    }\n",
              "</style>\n",
              "<table border=\"1\" class=\"dataframe\">\n",
              "  <thead>\n",
              "    <tr style=\"text-align: right;\">\n",
              "      <th></th>\n",
              "      <th>0</th>\n",
              "      <th>Coeficientes</th>\n",
              "    </tr>\n",
              "  </thead>\n",
              "  <tbody>\n",
              "    <tr>\n",
              "      <th>0</th>\n",
              "      <td>Branding</td>\n",
              "      <td>0.002197</td>\n",
              "    </tr>\n",
              "    <tr>\n",
              "      <th>1</th>\n",
              "      <td>DPA 1</td>\n",
              "      <td>0.004748</td>\n",
              "    </tr>\n",
              "    <tr>\n",
              "      <th>2</th>\n",
              "      <td>DPA 3</td>\n",
              "      <td>0.279555</td>\n",
              "    </tr>\n",
              "    <tr>\n",
              "      <th>3</th>\n",
              "      <td>DRA 1</td>\n",
              "      <td>-0.012634</td>\n",
              "    </tr>\n",
              "    <tr>\n",
              "      <th>4</th>\n",
              "      <td>DRA 3</td>\n",
              "      <td>0.188453</td>\n",
              "    </tr>\n",
              "    <tr>\n",
              "      <th>5</th>\n",
              "      <td>Display 1</td>\n",
              "      <td>-0.000020</td>\n",
              "    </tr>\n",
              "    <tr>\n",
              "      <th>6</th>\n",
              "      <td>Display 2</td>\n",
              "      <td>-0.000727</td>\n",
              "    </tr>\n",
              "    <tr>\n",
              "      <th>7</th>\n",
              "      <td>Rmkt 1</td>\n",
              "      <td>0.012271</td>\n",
              "    </tr>\n",
              "    <tr>\n",
              "      <th>8</th>\n",
              "      <td>Rmkt 3</td>\n",
              "      <td>0.335398</td>\n",
              "    </tr>\n",
              "    <tr>\n",
              "      <th>9</th>\n",
              "      <td>Rmkt 6</td>\n",
              "      <td>-2.295026</td>\n",
              "    </tr>\n",
              "    <tr>\n",
              "      <th>10</th>\n",
              "      <td>Rmkt 7</td>\n",
              "      <td>-0.025652</td>\n",
              "    </tr>\n",
              "    <tr>\n",
              "      <th>11</th>\n",
              "      <td>Search 1</td>\n",
              "      <td>0.000072</td>\n",
              "    </tr>\n",
              "    <tr>\n",
              "      <th>12</th>\n",
              "      <td>Search 2</td>\n",
              "      <td>0.007773</td>\n",
              "    </tr>\n",
              "    <tr>\n",
              "      <th>13</th>\n",
              "      <td>Search 3</td>\n",
              "      <td>0.137396</td>\n",
              "    </tr>\n",
              "    <tr>\n",
              "      <th>14</th>\n",
              "      <td>Search 4</td>\n",
              "      <td>0.010830</td>\n",
              "    </tr>\n",
              "    <tr>\n",
              "      <th>15</th>\n",
              "      <td>Search 5</td>\n",
              "      <td>-0.007541</td>\n",
              "    </tr>\n",
              "    <tr>\n",
              "      <th>16</th>\n",
              "      <td>Search 6</td>\n",
              "      <td>-0.014489</td>\n",
              "    </tr>\n",
              "    <tr>\n",
              "      <th>17</th>\n",
              "      <td>Shopping 1</td>\n",
              "      <td>0.002205</td>\n",
              "    </tr>\n",
              "    <tr>\n",
              "      <th>18</th>\n",
              "      <td>Shopping 2</td>\n",
              "      <td>0.003471</td>\n",
              "    </tr>\n",
              "    <tr>\n",
              "      <th>19</th>\n",
              "      <td>Shopping 3</td>\n",
              "      <td>0.000531</td>\n",
              "    </tr>\n",
              "    <tr>\n",
              "      <th>20</th>\n",
              "      <td>Shopping 4</td>\n",
              "      <td>-0.094451</td>\n",
              "    </tr>\n",
              "    <tr>\n",
              "      <th>21</th>\n",
              "      <td>Shopping 5</td>\n",
              "      <td>0.050846</td>\n",
              "    </tr>\n",
              "    <tr>\n",
              "      <th>22</th>\n",
              "      <td>Shopping 6</td>\n",
              "      <td>-0.086871</td>\n",
              "    </tr>\n",
              "    <tr>\n",
              "      <th>23</th>\n",
              "      <td>Shopping 7</td>\n",
              "      <td>-0.112443</td>\n",
              "    </tr>\n",
              "  </tbody>\n",
              "</table>\n",
              "</div>"
            ],
            "text/plain": [
              "             0  Coeficientes\n",
              "0     Branding      0.002197\n",
              "1        DPA 1      0.004748\n",
              "2        DPA 3      0.279555\n",
              "3        DRA 1     -0.012634\n",
              "4        DRA 3      0.188453\n",
              "5    Display 1     -0.000020\n",
              "6    Display 2     -0.000727\n",
              "7       Rmkt 1      0.012271\n",
              "8       Rmkt 3      0.335398\n",
              "9       Rmkt 6     -2.295026\n",
              "10      Rmkt 7     -0.025652\n",
              "11    Search 1      0.000072\n",
              "12    Search 2      0.007773\n",
              "13    Search 3      0.137396\n",
              "14    Search 4      0.010830\n",
              "15    Search 5     -0.007541\n",
              "16    Search 6     -0.014489\n",
              "17  Shopping 1      0.002205\n",
              "18  Shopping 2      0.003471\n",
              "19  Shopping 3      0.000531\n",
              "20  Shopping 4     -0.094451\n",
              "21  Shopping 5      0.050846\n",
              "22  Shopping 6     -0.086871\n",
              "23  Shopping 7     -0.112443"
            ]
          },
          "metadata": {},
          "execution_count": 67
        }
      ]
    },
    {
      "cell_type": "code",
      "metadata": {
        "colab": {
          "base_uri": "https://localhost:8080/"
        },
        "id": "zx9f9iXYCZ6x",
        "outputId": "6c35a4f9-5291-4ccc-d5ec-9efa329cedf5"
      },
      "source": [
        "# Calculando o r-squared\n",
        "lreg.score(x_test, y_test)"
      ],
      "execution_count": 69,
      "outputs": [
        {
          "output_type": "execute_result",
          "data": {
            "text/plain": [
              "0.52958919297448"
            ]
          },
          "metadata": {},
          "execution_count": 69
        }
      ]
    },
    {
      "cell_type": "code",
      "metadata": {
        "id": "DX_UfJ3fDTbv"
      },
      "source": [
        "# Ridge Regression\n",
        "# Importando e instanciando a classe Ridge\n",
        "from sklearn.linear_model import Ridge\n",
        "ridgeReg = Ridge(alpha=0.05, normalize=True)"
      ],
      "execution_count": 70,
      "outputs": []
    },
    {
      "cell_type": "code",
      "metadata": {
        "colab": {
          "base_uri": "https://localhost:8080/"
        },
        "id": "oomuIM_tPsST",
        "outputId": "ce00295a-db04-4977-fa6f-3c7d75135248"
      },
      "source": [
        "ridgeReg.fit(x_train,y_train)"
      ],
      "execution_count": 71,
      "outputs": [
        {
          "output_type": "execute_result",
          "data": {
            "text/plain": [
              "Ridge(alpha=0.05, copy_X=True, fit_intercept=True, max_iter=None,\n",
              "      normalize=True, random_state=None, solver='auto', tol=0.001)"
            ]
          },
          "metadata": {},
          "execution_count": 71
        }
      ]
    },
    {
      "cell_type": "code",
      "metadata": {
        "colab": {
          "base_uri": "https://localhost:8080/"
        },
        "id": "leoaUbndMw2f",
        "outputId": "0096d7f4-3946-41a3-dba3-b374804fb79f"
      },
      "source": [
        "# Treinando o modelo\n",
        "pred = ridgeReg.predict(x_test)\n",
        "mse = np.mean((pred - y_test)**2)\n",
        "mse"
      ],
      "execution_count": 72,
      "outputs": [
        {
          "output_type": "execute_result",
          "data": {
            "text/plain": [
              "48783.27049146082"
            ]
          },
          "metadata": {},
          "execution_count": 72
        }
      ]
    },
    {
      "cell_type": "code",
      "metadata": {
        "colab": {
          "base_uri": "https://localhost:8080/"
        },
        "id": "fuFy00sWQ1Ls",
        "outputId": "5307a232-c888-4d09-aaa2-87ecb73475c0"
      },
      "source": [
        "ridgeReg.score(x_test,y_test)"
      ],
      "execution_count": 73,
      "outputs": [
        {
          "output_type": "execute_result",
          "data": {
            "text/plain": [
              "0.5458908175011237"
            ]
          },
          "metadata": {},
          "execution_count": 73
        }
      ]
    },
    {
      "cell_type": "code",
      "metadata": {
        "id": "ih8JCMuYQ1yD"
      },
      "source": [
        "# Verificação do impacto nos coeficientes de forma gráfica\n",
        "def plot_coeficientes_ridge(alpha):\n",
        "  ridgeReg = Ridge(alpha=alpha, normalize=True)\n",
        "  ridgeReg.fit(x_train,y_train)\n",
        "  predictors = x_train.columns\n",
        "  coef = Series(ridgeReg.coef_,predictors).sort_values()\n",
        "  print(coef)\n",
        "  coef.plot(kind='bar', title='Ridge Coefficients')"
      ],
      "execution_count": 74,
      "outputs": []
    },
    {
      "cell_type": "code",
      "metadata": {
        "colab": {
          "base_uri": "https://localhost:8080/",
          "height": 753
        },
        "id": "W_B-B0HsQ47d",
        "outputId": "be54e144-6736-4378-88e4-7de6f63fc74e"
      },
      "source": [
        "# Magnitude com alpha = 0.01\n",
        "plot_coeficientes_ridge(0.01)"
      ],
      "execution_count": 75,
      "outputs": [
        {
          "output_type": "stream",
          "name": "stdout",
          "text": [
            "Rmkt 6       -2.119510\n",
            "Shopping 7   -0.103467\n",
            "Shopping 4   -0.090020\n",
            "Shopping 6   -0.087468\n",
            "Rmkt 7       -0.023977\n",
            "Search 6     -0.013441\n",
            "DRA 1        -0.012129\n",
            "Search 5     -0.006479\n",
            "Shopping 3   -0.002149\n",
            "Display 2    -0.000409\n",
            "Display 1    -0.000010\n",
            "Search 1      0.000300\n",
            "Branding      0.002240\n",
            "Shopping 1    0.002295\n",
            "Shopping 2    0.003440\n",
            "DPA 1         0.004410\n",
            "Search 2      0.007215\n",
            "Search 4      0.007961\n",
            "Rmkt 1        0.012217\n",
            "Shopping 5    0.047432\n",
            "Search 3      0.130127\n",
            "DRA 3         0.158833\n",
            "DPA 3         0.274824\n",
            "Rmkt 3        0.314257\n",
            "dtype: float64\n"
          ]
        },
        {
          "output_type": "display_data",
          "data": {
            "image/png": "[encoded data removed]",
            "text/plain": [
              "<Figure size 432x288 with 1 Axes>"
            ]
          },
          "metadata": {
            "needs_background": "light"
          }
        }
      ]
    },
    {
      "cell_type": "code",
      "metadata": {
        "colab": {
          "base_uri": "https://localhost:8080/",
          "height": 753
        },
        "id": "uWkXNKDQQ9-H",
        "outputId": "517440fb-f54e-4c2c-ff62-cf045938d1c0"
      },
      "source": [
        "# Magnitude com alpha= 10\n",
        "plot_coeficientes_ridge(10)"
      ],
      "execution_count": 77,
      "outputs": [
        {
          "output_type": "stream",
          "name": "stdout",
          "text": [
            "Rmkt 6       -0.615381\n",
            "DRA 3        -0.207840\n",
            "Rmkt 3       -0.147127\n",
            "Shopping 6   -0.046030\n",
            "Shopping 3   -0.040394\n",
            "Shopping 7   -0.031697\n",
            "Search 3     -0.027976\n",
            "Shopping 4   -0.021400\n",
            "Search 4     -0.013397\n",
            "DPA 3        -0.006026\n",
            "DRA 1        -0.002052\n",
            "Display 1     0.000247\n",
            "DPA 1         0.000535\n",
            "Display 2     0.000797\n",
            "Search 1      0.000947\n",
            "Shopping 2    0.000973\n",
            "Shopping 1    0.001126\n",
            "Search 5      0.001306\n",
            "Branding      0.001367\n",
            "Rmkt 7        0.002060\n",
            "Search 2      0.002595\n",
            "Rmkt 1        0.003039\n",
            "Search 6      0.007161\n",
            "Shopping 5    0.008082\n",
            "dtype: float64\n"
          ]
        },
        {
          "output_type": "display_data",
          "data": {
            "image/png": "[encoded data removed]",
            "text/plain": [
              "<Figure size 432x288 with 1 Axes>"
            ]
          },
          "metadata": {
            "needs_background": "light"
          }
        }
      ]
    },
    {
      "cell_type": "code",
      "metadata": {
        "id": "TvzE7CkAS7ib"
      },
      "source": [
        "# Lasso Regression\n",
        "from sklearn.linear_model import Lasso\n",
        "lassoReg = Lasso(alpha=0.05, normalize=True)"
      ],
      "execution_count": 79,
      "outputs": []
    },
    {
      "cell_type": "code",
      "metadata": {
        "colab": {
          "base_uri": "https://localhost:8080/"
        },
        "id": "zKr9YUDHTHqf",
        "outputId": "6aa22322-bd5a-46e4-b774-682486ba9255"
      },
      "source": [
        "# Treinando o modelo\n",
        "lassoReg.fit(x_train,y_train)"
      ],
      "execution_count": 80,
      "outputs": [
        {
          "output_type": "execute_result",
          "data": {
            "text/plain": [
              "Lasso(alpha=0.05, copy_X=True, fit_intercept=True, max_iter=1000,\n",
              "      normalize=True, positive=False, precompute=False, random_state=None,\n",
              "      selection='cyclic', tol=0.0001, warm_start=False)"
            ]
          },
          "metadata": {},
          "execution_count": 80
        }
      ]
    },
    {
      "cell_type": "code",
      "metadata": {
        "colab": {
          "base_uri": "https://localhost:8080/"
        },
        "id": "7iiFGUtGTVCc",
        "outputId": "0440f9d6-10c1-4de7-a0e6-0e0dd166f1cc"
      },
      "source": [
        "# Realizando a predição e calculando as métricas\n",
        "pred = lassoReg.predict(x_test)\n",
        "mse = np.mean((pred - y_test)**2)\n",
        "mse"
      ],
      "execution_count": 81,
      "outputs": [
        {
          "output_type": "execute_result",
          "data": {
            "text/plain": [
              "49524.14452040921"
            ]
          },
          "metadata": {},
          "execution_count": 81
        }
      ]
    },
    {
      "cell_type": "code",
      "metadata": {
        "colab": {
          "base_uri": "https://localhost:8080/"
        },
        "id": "Xk8YPtHjTh2c",
        "outputId": "440598af-15ea-4dfc-fe38-c78ab5b9cf5b"
      },
      "source": [
        "lassoReg.score(x_test,y_test)"
      ],
      "execution_count": 82,
      "outputs": [
        {
          "output_type": "execute_result",
          "data": {
            "text/plain": [
              "0.5389942380747956"
            ]
          },
          "metadata": {},
          "execution_count": 82
        }
      ]
    },
    {
      "cell_type": "code",
      "metadata": {
        "id": "0nvwXKN5Tn_E"
      },
      "source": [
        "# Verificar o impacto nos coeficientes de forma gráfica\n",
        "def plot_coeficientes_lasso(alpha):\n",
        "  lassoReg = Lasso(alpha=alpha, normalize=True)\n",
        "  lassoReg.fit(x_train,y_train)\n",
        "  predictors = x_train.columns\n",
        "  coef = Series(lassoReg.coef_,predictors).sort_values()\n",
        "  print(coef)\n",
        "  coef.plot(kind='bar', title='Lasso Coefficients')"
      ],
      "execution_count": 83,
      "outputs": []
    },
    {
      "cell_type": "code",
      "metadata": {
        "colab": {
          "base_uri": "https://localhost:8080/",
          "height": 753
        },
        "id": "oa_nczpATxiA",
        "outputId": "70c3e929-0a06-431e-e9f3-713a82d3a983"
      },
      "source": [
        "# Magnitude com alpha= 0.01\n",
        "plot_coeficientes_lasso(0.01)"
      ],
      "execution_count": 84,
      "outputs": [
        {
          "output_type": "stream",
          "name": "stdout",
          "text": [
            "Rmkt 6       -2.189743\n",
            "Shopping 7   -0.101636\n",
            "Shopping 4   -0.091647\n",
            "Shopping 6   -0.082423\n",
            "Rmkt 7       -0.024986\n",
            "Search 6     -0.012630\n",
            "DRA 1        -0.012419\n",
            "Search 5     -0.007246\n",
            "Display 2    -0.000405\n",
            "Shopping 3   -0.000000\n",
            "Display 1    -0.000000\n",
            "Search 1      0.000097\n",
            "Branding      0.002047\n",
            "Shopping 1    0.002080\n",
            "Shopping 2    0.003360\n",
            "DPA 1         0.004711\n",
            "Search 2      0.007397\n",
            "Search 4      0.008733\n",
            "Rmkt 1        0.012214\n",
            "Shopping 5    0.049447\n",
            "Search 3      0.130593\n",
            "DRA 3         0.138475\n",
            "DPA 3         0.274389\n",
            "Rmkt 3        0.295371\n",
            "dtype: float64\n"
          ]
        },
        {
          "output_type": "display_data",
          "data": {
            "image/png": "[encoded data removed]",
            "text/plain": [
              "<Figure size 432x288 with 1 Axes>"
            ]
          },
          "metadata": {
            "needs_background": "light"
          }
        }
      ]
    },
    {
      "cell_type": "code",
      "metadata": {
        "colab": {
          "base_uri": "https://localhost:8080/",
          "height": 753
        },
        "id": "C6ymeQweTzti",
        "outputId": "4d4626ae-bdb1-4cfe-90cf-0c06ec8f3d1c"
      },
      "source": [
        "# Magnitude com alpha= 0.5\n",
        "plot_coeficientes_lasso(0.5)"
      ],
      "execution_count": 85,
      "outputs": [
        {
          "output_type": "stream",
          "name": "stdout",
          "text": [
            "Rmkt 6       -1.326712\n",
            "Shopping 4   -0.058325\n",
            "DRA 1        -0.007230\n",
            "Search 4     -0.001853\n",
            "Shopping 7   -0.000000\n",
            "Shopping 3   -0.000000\n",
            "DRA 3        -0.000000\n",
            "Display 1     0.000000\n",
            "Display 2     0.000000\n",
            "Search 6      0.000000\n",
            "Rmkt 3        0.000000\n",
            "Rmkt 7        0.000000\n",
            "Shopping 6   -0.000000\n",
            "Search 5      0.000000\n",
            "Search 3      0.000000\n",
            "Branding      0.000542\n",
            "Rmkt 1        0.000654\n",
            "Search 1      0.000911\n",
            "Shopping 1    0.001468\n",
            "Shopping 2    0.003993\n",
            "DPA 1         0.004201\n",
            "Search 2      0.005720\n",
            "Shopping 5    0.020407\n",
            "DPA 3         0.071463\n",
            "dtype: float64\n"
          ]
        },
        {
          "output_type": "display_data",
          "data": {
            "image/png": "[encoded data removed]",
            "text/plain": [
              "<Figure size 432x288 with 1 Axes>"
            ]
          },
          "metadata": {
            "needs_background": "light"
          }
        }
      ]
    },
    {
      "cell_type": "code",
      "metadata": {
        "id": "VM7c0RwaT3Ac"
      },
      "source": [
        "# ElasticNet\n",
        "from sklearn.linear_model import ElasticNet"
      ],
      "execution_count": 86,
      "outputs": []
    },
    {
      "cell_type": "code",
      "metadata": {
        "colab": {
          "base_uri": "https://localhost:8080/"
        },
        "id": "_hue0q6TUB9C",
        "outputId": "06558b4f-447e-4d74-c05f-fab9dc3a562f"
      },
      "source": [
        "# Instanciando a classe e treinando o modelo\n",
        "ENreg = ElasticNet(alpha=1, l1_ratio=0.5, normalize=False)\n",
        "ENreg.fit(x_train,y_train)"
      ],
      "execution_count": 87,
      "outputs": [
        {
          "output_type": "execute_result",
          "data": {
            "text/plain": [
              "ElasticNet(alpha=1, copy_X=True, fit_intercept=True, l1_ratio=0.5,\n",
              "           max_iter=1000, normalize=False, positive=False, precompute=False,\n",
              "           random_state=None, selection='cyclic', tol=0.0001, warm_start=False)"
            ]
          },
          "metadata": {},
          "execution_count": 87
        }
      ]
    },
    {
      "cell_type": "code",
      "metadata": {
        "colab": {
          "base_uri": "https://localhost:8080/"
        },
        "id": "sVPL4h45UFx-",
        "outputId": "a69cabdc-c400-4037-e841-6d23460e6a75"
      },
      "source": [
        "# Realizando as predições e calculando as métricas\n",
        "pred = ENreg.predict(x_test)\n",
        "mse = np.mean((pred - y_test)**2)\n",
        "mse"
      ],
      "execution_count": 88,
      "outputs": [
        {
          "output_type": "execute_result",
          "data": {
            "text/plain": [
              "50529.56172470786"
            ]
          },
          "metadata": {},
          "execution_count": 88
        }
      ]
    },
    {
      "cell_type": "code",
      "metadata": {
        "colab": {
          "base_uri": "https://localhost:8080/"
        },
        "id": "6LaALTC8UKoo",
        "outputId": "38d8f9e3-dbb5-4ad6-fddb-033235c12e90"
      },
      "source": [
        "ENreg.score(x_test,y_test)"
      ],
      "execution_count": 89,
      "outputs": [
        {
          "output_type": "execute_result",
          "data": {
            "text/plain": [
              "0.5296351036806739"
            ]
          },
          "metadata": {},
          "execution_count": 89
        }
      ]
    },
    {
      "cell_type": "code",
      "metadata": {
        "id": "sSGL3k18UMUN"
      },
      "source": [
        "# Impacto coeficientes forma gráfica\n",
        "def plot_coeficientes_elastic(alpha,l1):\n",
        "  ENreg = ElasticNet(alpha=alpha, l1_ratio=l1, normalize=False)\n",
        "  ENreg.fit(x_train,y_train)\n",
        "  predictors = x_train.columns\n",
        "  coef = Series(ENreg.coef_,predictors).sort_values()\n",
        "  print(coef)\n",
        "  coef.plot(kind='bar', title='Elastic Coefficients')"
      ],
      "execution_count": 90,
      "outputs": []
    },
    {
      "cell_type": "code",
      "metadata": {
        "colab": {
          "base_uri": "https://localhost:8080/",
          "height": 753
        },
        "id": "KxpgouaJUSXK",
        "outputId": "e2186004-2023-4666-e500-973186194f6b"
      },
      "source": [
        "plot_coeficientes_elastic(1,0.5)"
      ],
      "execution_count": 91,
      "outputs": [
        {
          "output_type": "stream",
          "name": "stdout",
          "text": [
            "Rmkt 6       -2.262414\n",
            "Shopping 7   -0.112443\n",
            "Shopping 4   -0.094570\n",
            "Shopping 6   -0.087635\n",
            "Rmkt 7       -0.025568\n",
            "Search 6     -0.014384\n",
            "DRA 1        -0.012638\n",
            "Search 5     -0.007517\n",
            "Display 2    -0.000716\n",
            "Display 1    -0.000022\n",
            "Search 1      0.000060\n",
            "Shopping 3    0.000457\n",
            "Shopping 1    0.002207\n",
            "Branding      0.002212\n",
            "Shopping 2    0.003468\n",
            "DPA 1         0.004747\n",
            "Search 2      0.007787\n",
            "Search 4      0.010647\n",
            "Rmkt 1        0.012287\n",
            "Shopping 5    0.050798\n",
            "Search 3      0.137497\n",
            "DRA 3         0.183213\n",
            "DPA 3         0.278337\n",
            "Rmkt 3        0.322464\n",
            "dtype: float64\n"
          ]
        },
        {
          "output_type": "display_data",
          "data": {
            "image/png": "[encoded data removed]",
            "text/plain": [
              "<Figure size 432x288 with 1 Axes>"
            ]
          },
          "metadata": {
            "needs_background": "light"
          }
        }
      ]
    },
    {
      "cell_type": "code",
      "metadata": {
        "colab": {
          "base_uri": "https://localhost:8080/",
          "height": 753
        },
        "id": "XICyJxZSUT04",
        "outputId": "f645bdaf-a222-45eb-e238-0141fecc24ae"
      },
      "source": [
        "plot_coeficientes_elastic(1,1)"
      ],
      "execution_count": 92,
      "outputs": [
        {
          "output_type": "stream",
          "name": "stdout",
          "text": [
            "Rmkt 6       -2.274509\n",
            "Shopping 7   -0.111657\n",
            "Shopping 4   -0.094453\n",
            "Shopping 6   -0.087219\n",
            "Rmkt 7       -0.025553\n",
            "Search 6     -0.014366\n",
            "DRA 1        -0.012625\n",
            "Search 5     -0.007526\n",
            "Display 2    -0.000722\n",
            "Display 1    -0.000022\n",
            "Search 1      0.000066\n",
            "Shopping 3    0.000321\n",
            "Branding      0.002204\n",
            "Shopping 1    0.002206\n",
            "Shopping 2    0.003472\n",
            "DPA 1         0.004747\n",
            "Search 2      0.007773\n",
            "Search 4      0.010664\n",
            "Rmkt 1        0.012278\n",
            "Shopping 5    0.050807\n",
            "Search 3      0.137568\n",
            "DRA 3         0.180403\n",
            "DPA 3         0.278686\n",
            "Rmkt 3        0.316880\n",
            "dtype: float64\n"
          ]
        },
        {
          "output_type": "display_data",
          "data": {
            "image/png": "[encoded data removed]",
            "text/plain": [
              "<Figure size 432x288 with 1 Axes>"
            ]
          },
          "metadata": {
            "needs_background": "light"
          }
        }
      ]
    }
  ]
}